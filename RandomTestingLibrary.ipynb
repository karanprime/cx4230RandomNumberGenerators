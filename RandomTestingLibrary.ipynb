{
 "cells": [
  {
   "cell_type": "markdown",
   "metadata": {},
   "source": [
    "# CX 4230 Random Number Generator Library \n",
    "### By Karan Shah and Ricardo Macias\n",
    "\n",
    "For the actual implementation of the \n",
    "Demo begins after helper code.\n",
    "Helper code:"
   ]
  },
  {
   "cell_type": "code",
   "execution_count": 8,
   "metadata": {
    "collapsed": true
   },
   "outputs": [],
   "source": [
    "import RandGenRule30 as R30\n",
    "import RandGenLehmer as RLCG\n",
    "import time\n",
    "import numpy as np\n",
    "import scipy.stats as stats\n",
    "from pylab import show,hist,subplot,figure\n",
    "import matplotlib.pyplot as plt\n",
    "%matplotlib inline"
   ]
  },
  {
   "cell_type": "code",
   "execution_count": 15,
   "metadata": {
    "collapsed": true
   },
   "outputs": [],
   "source": [
    "#Returns rng objects with that seed\n",
    "def setSeed(seed=0):\n",
    "    if(seed):\n",
    "        np.random.seed(seed)\n",
    "    r3 = R30.randGen30(seed)\n",
    "    le = RLCG.randGenLehmer()\n",
    "    return r3, le  "
   ]
  },
  {
   "cell_type": "code",
   "execution_count": 10,
   "metadata": {
    "collapsed": false
   },
   "outputs": [],
   "source": [
    "#Box-Muller Transformation from http://glowingpython.blogspot.com/2013/01/box-muller-transformation.html\n",
    "def makeGaussian(u1,u2):\n",
    "    z1 = np.sqrt(-2*np.log(u1))*np.cos(2*np.pi*u2)\n",
    "    z2 = np.sqrt(-2*np.log(u1))*np.sin(2*np.pi*u2)\n",
    "    return z1,z2\n",
    "    "
   ]
  },
  {
   "cell_type": "code",
   "execution_count": 11,
   "metadata": {
    "collapsed": true
   },
   "outputs": [],
   "source": [
    "#Statistics for the uniform distribution\n",
    "def UniformStats(u):\n",
    "    print(\"Expected mean for a perfectly uniform distribution: \")\n",
    "    mu1 = (len(u))/2\n",
    "    print(mu1)\n",
    "    print(\"Actual mean: \")\n",
    "    print(np.mean(u))\n",
    "    \n",
    "    kurt = -6/5\n",
    "    print(\"Expected kurtosis for a perfectly uniform distribution: \")\n",
    "    #mu1 = (len(u))/2\n",
    "    print(kurt)\n",
    "    print(\"Actual kurtosis: \")\n",
    "    print(stats.kurtosis(u,0,True))\n",
    "    \n",
    "    print(stats.kstest(u,'uniform'))\n",
    "    \n",
    "    xax = np.arange(len(u))\n",
    "    \n",
    "    figure()\n",
    "    f,a1 = plt.subplots()\n",
    "    a1.scatter(xax,u)\n",
    "    a1.set_title('Scatter')\n",
    "    show()\n",
    "    figure()\n",
    "    f,a1 = plt.subplots()\n",
    "    a1.plot(xax,np.sort(u),'b')\n",
    "    a1.set_title('CDF')\n",
    "    show()\n",
    "    figure()\n",
    "    hist(u)\n",
    "    show()"
   ]
  },
  {
   "cell_type": "code",
   "execution_count": 12,
   "metadata": {
    "collapsed": true
   },
   "outputs": [],
   "source": [
    "#Statistics for gaussian distribution\n",
    "def GaussianStats(u1,u2):\n",
    "    z1,z2 = makeGaussian(u1,u2)\n",
    "    \n",
    "    kurt = 3\n",
    "    print(\"Expected kurtosis for a perfectly uniform distribution: \")\n",
    "    #mu1 = (len(u))/2\n",
    "    print(kurt)\n",
    "    print(\"Actual kurtosis: \")\n",
    "    print(stats.kurtosis(z1,0,False))\n",
    "    print(stats.kurtosis(z2,0,False))\n",
    "    \n",
    "    print(stats.kstest(z1,'norm'))\n",
    "    print(stats.kstest(z2,'norm'))\n",
    "    \n",
    "    xax = np.arange(len(z1))\n",
    "    \n",
    "    figure()\n",
    "    subplot(221) # the first row of graphs\n",
    "    plt.scatter(xax,z1)     # contains the histograms of u1 and u2 \n",
    "    subplot(222)\n",
    "    plt.scatter(xax,z2)\n",
    "    show()\n",
    "    figure()\n",
    "    subplot(221) # the first row of graphs\n",
    "    plt.plot(xax,np.sort(z1),'b')     # contains the histograms of u1 and u2 \n",
    "    subplot(222)\n",
    "    plt.plot(xax,np.sort(z1),'b')\n",
    "    show()\n",
    "    figure()\n",
    "    subplot(221) # the first row of graphs\n",
    "    hist(z1)    # contains the histograms of u1 and u2 \n",
    "    subplot(222)\n",
    "    hist(z2)\n",
    "    show()\n",
    "   "
   ]
  },
  {
   "cell_type": "code",
   "execution_count": 13,
   "metadata": {
    "collapsed": false
   },
   "outputs": [],
   "source": [
    "#UniformStats(np.random.rand(1000))\n",
    "#GaussianStats(np.random.rand(1000),np.random.rand(1000))"
   ]
  },
  {
   "cell_type": "code",
   "execution_count": 14,
   "metadata": {
    "collapsed": true
   },
   "outputs": [],
   "source": [
    "def initialize(size, seed, doprint = True):\n",
    "    r3, le = setSeed(seed)\n",
    "    r3a = np.zeros(size)\n",
    "    lea = np.zeros(size)\n",
    "    start = time.time()\n",
    "    \n",
    "    for i in range(size):\n",
    "        r3a[i] = r3.nextRand()\n",
    "    end = time.time() - start\n",
    "    if doprint:print(\"Time taken in seconds to create Rule 30 random numbers: \"+str(end) )\n",
    "    \n",
    "    start = time.time()\n",
    "    for i in range(size):\n",
    "        lea[i] = le.nextRand()\n",
    "    end = time.time() - start\n",
    "    if doprint:print(\"Time taken in seconds to create Lehmer random numbers: \"+str(end) )\n",
    "    \n",
    "    start = time.time()\n",
    "    pyr = np.random.rand(size)\n",
    "    end = time.time() - start\n",
    "    if doprint:print(\"Time taken in seconds to create NumPy random numbers: \"+str(end) )\n",
    "    \n",
    "    return r3, le, pyr"
   ]
  },
  {
   "cell_type": "markdown",
   "metadata": {
    "collapsed": true
   },
   "source": [
    "# Demo begins here\n",
    "First initialize the random variables:"
   ]
  }
 ],
 "metadata": {
  "kernelspec": {
   "display_name": "IPython (Python 3)",
   "language": "python",
   "name": "python3"
  },
  "language_info": {
   "codemirror_mode": {
    "name": "ipython",
    "version": 3
   },
   "file_extension": ".py",
   "mimetype": "text/x-python",
   "name": "python",
   "nbconvert_exporter": "python",
   "pygments_lexer": "ipython3",
   "version": "3.5.1"
  }
 },
 "nbformat": 4,
 "nbformat_minor": 0
}
