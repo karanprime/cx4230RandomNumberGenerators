{
 "cells": [
  {
   "cell_type": "markdown",
   "metadata": {},
   "source": [
    "# Random Number Generator using Lehmer's method (LCG)\n",
    "### By Karan Shah and Ricardo Macias\n",
    "\n",
    "** Usage: Make a new randGenLehmer object. **\n",
    "\n",
    "** Call nextRand() method on that object ** \n",
    "\n",
    "** Syntax:**\n",
    "\n",
    "** Lehobject = randGenLehmer(seed)** leave blank for time seed\n",
    "\n",
    "**newRandomNumber = Lehobject.nextRand(startInt, endInt) **Generate a\n",
    "number between startInt and endInt. Leave blank for 0 and 1 limits."
   ]
  },
  {
   "cell_type": "code",
   "execution_count": 2,
   "metadata": {
    "collapsed": true
   },
   "outputs": [],
   "source": [
    "from math import log\n",
    "import time\n",
    "import numpy as np\n",
    "import matplotlib.pyplot as plt\n",
    "%matplotlib inline"
   ]
  },
  {
   "cell_type": "code",
   "execution_count": 4,
   "metadata": {
    "collapsed": false
   },
   "outputs": [],
   "source": [
    "def g (x, m, a, q, r):\n",
    "\n",
    "    t = a * (x % q) - r * (x / q)\n",
    "    if t <= 0: t+=m\n",
    "    \n",
    "    #print('t')\n",
    "    #print (t)\n",
    "    return t"
   ]
  },
  {
   "cell_type": "code",
   "execution_count": 5,
   "metadata": {
    "collapsed": false
   },
   "outputs": [],
   "source": [
    "def genSeed():\n",
    "    t = time.time()\n",
    "    #print(t)\n",
    "    t=int((t-int(t))*10**6)\n",
    "    #print(t)\n",
    "    return t\n",
    "\n",
    "#for i in range(20):\n",
    " #   print(genSeed())"
   ]
  },
  {
   "cell_type": "code",
   "execution_count": 6,
   "metadata": {
    "collapsed": false
   },
   "outputs": [],
   "source": [
    "class randGenLehmer:\n",
    "    \n",
    "    def __init__(self,seed=0):\n",
    "        self.seed = 0\n",
    "        if(seed == 0):\n",
    "            seed = genSeed()\n",
    "        self.i = 0\n",
    "        self.ini = seed\n",
    "        self.current = seed\n",
    "    \n",
    "    m = 2147483647\n",
    "    a = 48271\n",
    "    q = 44488\n",
    "    r = 3399\n",
    "    \n",
    "    def nextRand(self, startint=0, endint=1):\n",
    "        rand = g(self.current, self.m, self.a, self.q, self.r)\n",
    "        self.i+=1\n",
    "        self.current = rand\n",
    "        return (startint+(rand/self.m)*(endint-startint))\n",
    "    "
   ]
  },
  {
   "cell_type": "code",
   "execution_count": 7,
   "metadata": {
    "collapsed": false
   },
   "outputs": [
    {
     "name": "stdout",
     "output_type": "stream",
     "text": [
      "Random variable from obj r\n",
      "0.5391970289482808\n",
      "0.5797833795872473\n",
      "0.7235148407342654\n",
      "0.7848757539434136\n",
      "Random variable from obj p\n",
      "0.540163578666872\n",
      "0.23610538955586113\n",
      "0.04325915395102126\n",
      "0.16262010712330802\n",
      "26.70379215219127\n",
      "18.75096255384371\n",
      "27.713407494931403\n",
      "13.893179529520483\n"
     ]
    }
   ],
   "source": [
    "r = randGenLehmer()\n",
    "p = randGenLehmer()\n",
    "print(\"Random variable from obj r\")\n",
    "print(r.nextRand())\n",
    "print(r.nextRand())\n",
    "print(r.nextRand())\n",
    "print(r.nextRand())\n",
    "\n",
    "print(\"Random variable from obj p\")\n",
    "print(p.nextRand())\n",
    "print(p.nextRand())\n",
    "print(p.nextRand())\n",
    "print(p.nextRand())\n",
    "\n",
    "print(p.nextRand(10,30))\n",
    "print(p.nextRand(10,30))\n",
    "print(p.nextRand(10,30))\n",
    "print(p.nextRand(10,30))"
   ]
  },
  {
   "cell_type": "code",
   "execution_count": 8,
   "metadata": {
    "collapsed": false
   },
   "outputs": [
    {
     "name": "stdout",
     "output_type": "stream",
     "text": [
      "10.0138964214\n",
      "29.9740132973\n",
      "19.9696402143\n"
     ]
    },
    {
     "data": {
      "image/png": "[encoded data removed]",
      "text/plain": [
       "<matplotlib.figure.Figure at 0x107aeee48>"
      ]
     },
     "metadata": {},
     "output_type": "display_data"
    }
   ],
   "source": [
    "p = randGenLehmer()\n",
    "\n",
    "x = np.zeros(1000)\n",
    "for i in range(1000):\n",
    "    x[i] = p.nextRand(10,30)\n",
    "    \n",
    "\n",
    "y = np.sort(x)\n",
    "print(y[0])\n",
    "print(y[-1])\n",
    "a = range(1000)\n",
    "plt.plot (a, y, 'r')\n",
    "print(x.mean())"
   ]
  },
  {
   "cell_type": "code",
   "execution_count": null,
   "metadata": {
    "collapsed": true
   },
   "outputs": [],
   "source": []
  }
 ],
 "metadata": {
  "kernelspec": {
   "display_name": "IPython (Python 3)",
   "language": "python",
   "name": "python3"
  },
  "language_info": {
   "codemirror_mode": {
    "name": "ipython",
    "version": 3
   },
   "file_extension": ".py",
   "mimetype": "text/x-python",
   "name": "python",
   "nbconvert_exporter": "python",
   "pygments_lexer": "ipython3",
   "version": "3.5.1"
  }
 },
 "nbformat": 4,
 "nbformat_minor": 0
}
